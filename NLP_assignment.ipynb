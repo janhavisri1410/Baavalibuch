{
 "cells": [
  {
   "cell_type": "code",
   "execution_count": 2,
   "id": "0b550af2",
   "metadata": {},
   "outputs": [
    {
     "name": "stdout",
     "output_type": "stream",
     "text": [
      "Requirement already satisfied: pandas in c:\\users\\rheam\\anaconda3\\lib\\site-packages (1.4.4)\n",
      "Requirement already satisfied: python-dateutil>=2.8.1 in c:\\users\\rheam\\anaconda3\\lib\\site-packages (from pandas) (2.8.2)\n",
      "Requirement already satisfied: pytz>=2020.1 in c:\\users\\rheam\\anaconda3\\lib\\site-packages (from pandas) (2022.7)\n",
      "Requirement already satisfied: numpy>=1.18.5 in c:\\users\\rheam\\anaconda3\\lib\\site-packages (from pandas) (1.24.3)\n",
      "Requirement already satisfied: six>=1.5 in c:\\users\\rheam\\anaconda3\\lib\\site-packages (from python-dateutil>=2.8.1->pandas) (1.16.0)\n"
     ]
    }
   ],
   "source": [
    "!pip install pandas\n"
   ]
  },
  {
   "cell_type": "code",
   "execution_count": 6,
   "id": "95b03812",
   "metadata": {
    "scrolled": true
   },
   "outputs": [
    {
     "data": {
      "application/vnd.jupyter.widget-view+json": {
       "model_id": "21724dcfa1ac45a6aa07c430b7156dc3",
       "version_major": 2,
       "version_minor": 0
      },
      "text/plain": [
       "Downloading builder script:   0%|          | 0.00/3.38k [00:00<?, ?B/s]"
      ]
     },
     "metadata": {},
     "output_type": "display_data"
    },
    {
     "data": {
      "application/vnd.jupyter.widget-view+json": {
       "model_id": "80e91fb0445d4c3cb58a9cedc2835eec",
       "version_major": 2,
       "version_minor": 0
      },
      "text/plain": [
       "Downloading metadata:   0%|          | 0.00/1.91k [00:00<?, ?B/s]"
      ]
     },
     "metadata": {},
     "output_type": "display_data"
    },
    {
     "data": {
      "application/vnd.jupyter.widget-view+json": {
       "model_id": "e0a928e3e1c44b0f919c09746b9ee032",
       "version_major": 2,
       "version_minor": 0
      },
      "text/plain": [
       "Downloading readme:   0%|          | 0.00/6.60k [00:00<?, ?B/s]"
      ]
     },
     "metadata": {},
     "output_type": "display_data"
    },
    {
     "name": "stdout",
     "output_type": "stream",
     "text": [
      "Downloading and preparing dataset boolq/default to C:/Users/rheam/.cache/huggingface/datasets/boolq/default/0.1.0/bf0dd57da941c50de94ae3ce3cef7fea48c08f337a4b7aac484e9dddc5aa24e5...\n"
     ]
    },
    {
     "data": {
      "application/vnd.jupyter.widget-view+json": {
       "model_id": "2c63b311f45f4a0cb1521c6a07baa611",
       "version_major": 2,
       "version_minor": 0
      },
      "text/plain": [
       "Downloading data files:   0%|          | 0/2 [00:00<?, ?it/s]"
      ]
     },
     "metadata": {},
     "output_type": "display_data"
    },
    {
     "data": {
      "application/vnd.jupyter.widget-view+json": {
       "model_id": "62d4837cc6f04e3287d647aeeb9dda02",
       "version_major": 2,
       "version_minor": 0
      },
      "text/plain": [
       "Downloading data:   0%|          | 0.00/6.53M [00:00<?, ?B/s]"
      ]
     },
     "metadata": {},
     "output_type": "display_data"
    },
    {
     "data": {
      "application/vnd.jupyter.widget-view+json": {
       "model_id": "1cc91069afed4a64a0de5079bcb1fc02",
       "version_major": 2,
       "version_minor": 0
      },
      "text/plain": [
       "Downloading data:   0%|          | 0.00/2.24M [00:00<?, ?B/s]"
      ]
     },
     "metadata": {},
     "output_type": "display_data"
    },
    {
     "data": {
      "application/vnd.jupyter.widget-view+json": {
       "model_id": "",
       "version_major": 2,
       "version_minor": 0
      },
      "text/plain": [
       "Generating train split:   0%|          | 0/9427 [00:00<?, ? examples/s]"
      ]
     },
     "metadata": {},
     "output_type": "display_data"
    },
    {
     "data": {
      "application/vnd.jupyter.widget-view+json": {
       "model_id": "",
       "version_major": 2,
       "version_minor": 0
      },
      "text/plain": [
       "Generating validation split:   0%|          | 0/3270 [00:00<?, ? examples/s]"
      ]
     },
     "metadata": {},
     "output_type": "display_data"
    },
    {
     "name": "stdout",
     "output_type": "stream",
     "text": [
      "Dataset boolq downloaded and prepared to C:/Users/rheam/.cache/huggingface/datasets/boolq/default/0.1.0/bf0dd57da941c50de94ae3ce3cef7fea48c08f337a4b7aac484e9dddc5aa24e5. Subsequent calls will reuse this data.\n"
     ]
    },
    {
     "data": {
      "application/vnd.jupyter.widget-view+json": {
       "model_id": "521a8da0b7834191bd91965ba393dc3a",
       "version_major": 2,
       "version_minor": 0
      },
      "text/plain": [
       "  0%|          | 0/2 [00:00<?, ?it/s]"
      ]
     },
     "metadata": {},
     "output_type": "display_data"
    }
   ],
   "source": [
    "from datasets import load_dataset\n",
    "\n",
    "dataset = load_dataset(\"boolq\")"
   ]
  },
  {
   "cell_type": "code",
   "execution_count": 29,
   "id": "60cda51c",
   "metadata": {},
   "outputs": [
    {
     "name": "stderr",
     "output_type": "stream",
     "text": [
      "Found cached dataset boolq (C:/Users/rheam/.cache/huggingface/datasets/boolq/default/0.1.0/bf0dd57da941c50de94ae3ce3cef7fea48c08f337a4b7aac484e9dddc5aa24e5)\n"
     ]
    },
    {
     "data": {
      "application/vnd.jupyter.widget-view+json": {
       "model_id": "97685810b1bd4f0ca02adae07a1209b3",
       "version_major": 2,
       "version_minor": 0
      },
      "text/plain": [
       "  0%|          | 0/2 [00:00<?, ?it/s]"
      ]
     },
     "metadata": {},
     "output_type": "display_data"
    },
    {
     "name": "stdout",
     "output_type": "stream",
     "text": [
      "Enter a question: \n",
      "  @media print {\n",
      "    .ms-editor-squiggles-container {\n",
      "      display:none !important;\n",
      "    }\n",
      "  }\n",
      "  .ms-editor-squiggles-container {\n",
      "    all: initial;\n",
      "  }do iran and afghanistan speak the same language\n",
      "\n",
      "Task 2 - Closest question (Levenshtein): do iran and afghanistan speak the same language\n",
      "Answer: True\n",
      "\n",
      "Task 3 - Closest question (Levenshtein with threads): do iran and afghanistan speak the same language\n",
      "Answer: True\n",
      "\n",
      "Task 4 - Ranking responses using XGBoost:\n",
      "Rank 1:\n",
      "Question: do iran and afghanistan speak the same language\n",
      "Answer: True\n",
      "Levenshtein Distance: 0\n",
      "Ranking: 4.58074426651001\n",
      "\n",
      "Rank 2:\n",
      "Question: of all the points on the production possibilities curve only one point represents an efficient point\n",
      "Answer: False\n",
      "Levenshtein Distance: 82\n",
      "Ranking: 351.5504455566406\n",
      "\n",
      "Rank 3:\n",
      "Question: did the mayans and aztecs speak the same language\n",
      "Answer: False\n",
      "Levenshtein Distance: 19\n",
      "Ranking: 718.6289672851562\n",
      "\n",
      "Rank 4:\n",
      "Question: do chad and romania have the same flag\n",
      "Answer: False\n",
      "Levenshtein Distance: 21\n",
      "Ranking: 822.0311279296875\n",
      "\n",
      "Rank 5:\n",
      "Question: does everyone in africa speak the same language\n",
      "Answer: False\n",
      "Levenshtein Distance: 17\n",
      "Ranking: 1252.8792724609375\n",
      "\n",
      "\n",
      "Task 5 - Ranking responses using a combination of Levenshtein and XGBoost:\n",
      "Rank 1:\n",
      "Question: do iran and afghanistan speak the same language\n",
      "Answer: True\n",
      "Combined Ranking: 2.432297706604004\n",
      "\n",
      "Rank 2:\n",
      "Question: of all the points on the production possibilities curve only one point represents an efficient point\n",
      "Answer: False\n",
      "Combined Ranking: 349.4201782226562\n",
      "\n",
      "Rank 3:\n",
      "Question: did the mayans and aztecs speak the same language\n",
      "Answer: False\n",
      "Combined Ranking: 714.6515869140625\n",
      "\n",
      "Rank 4:\n",
      "Question: do chad and romania have the same flag\n",
      "Answer: False\n",
      "Combined Ranking: 823.812451171875\n",
      "\n",
      "Rank 5:\n",
      "Question: do the individual parallel lines in a parallel circuit have different currents flowing through them\n",
      "Answer: False\n",
      "Combined Ranking: 1185.90654296875\n",
      "\n"
     ]
    }
   ],
   "source": [
    "import Levenshtein\n",
    "import xgboost as xgb\n",
    "import numpy as np\n",
    "import concurrent.futures\n",
    "from datasets import load_dataset\n",
    "\n",
    "# Task 1: Load the dataset\n",
    "dataset = load_dataset(\"boolq\")\n",
    "\n",
    "# Function to calculate Levenshtein distance\n",
    "def calculate_levenshtein_distance(input_string, example):\n",
    "    question = example['question']\n",
    "    answer = example['answer']\n",
    "    distance = Levenshtein.distance(input_string.lower(), question.lower())\n",
    "    return question, answer, distance\n",
    "\n",
    "# Task 2: Retrieve a pair based on Levenshtein distance\n",
    "def retrieve_pair(input_string, dataset):\n",
    "    min_distance = float('inf')\n",
    "    best_question = None\n",
    "    best_answer = None\n",
    "\n",
    "    for example in dataset:\n",
    "        question, answer, distance = calculate_levenshtein_distance(input_string, example)\n",
    "        \n",
    "        if distance < min_distance:\n",
    "            min_distance = distance\n",
    "            best_question = question\n",
    "            best_answer = answer\n",
    "\n",
    "    return best_question, best_answer\n",
    "\n",
    "# Task 3: Parallelize the search using Python threads\n",
    "def retrieve_pairs_in_parallel(input_string, dataset):\n",
    "    def calculate_distance_and_return_pair(example):\n",
    "        return calculate_levenshtein_distance(input_string, example)\n",
    "\n",
    "    with concurrent.futures.ThreadPoolExecutor() as executor:\n",
    "        results = list(executor.map(calculate_distance_and_return_pair, dataset))\n",
    "\n",
    "    results.sort(key=lambda x: x[2])  # Sort by Levenshtein distance\n",
    "    return results[0]  # Return the closest pair\n",
    "\n",
    "# Task 4: Repeat the same using XGBoost\n",
    "def rank_responses_with_xgboost(input_string, dataset):\n",
    "    pairs = retrieve_pairs(input_string, dataset)\n",
    "    X = np.array([distance for _, _, distance in pairs]).reshape(-1, 1)\n",
    "    y = np.arange(len(pairs))\n",
    "\n",
    "    model = xgb.XGBRegressor()\n",
    "    model.fit(X, y)\n",
    "\n",
    "    ranking = model.predict(X)\n",
    "\n",
    "    pairs_with_ranking = [(question, answer, distance, rank) for (question, answer, distance), rank in zip(pairs, ranking)]\n",
    "    pairs_with_ranking.sort(key=lambda x: x[3])  # Sort by ranking\n",
    "    return pairs_with_ranking\n",
    "\n",
    "# Task 5: Rank the responses using a combination of Levenshtein and XGBoost\n",
    "def rank_responses_with_combination(input_string, dataset):\n",
    "    pairs_levenshtein = retrieve_pairs(input_string, dataset)\n",
    "    pairs_xgboost = rank_responses_with_xgboost(input_string, dataset)\n",
    "\n",
    "    # Combine the rankings using a weighted sum\n",
    "    weight_levenshtein = 0.6\n",
    "    weight_xgboost = 0.4\n",
    "\n",
    "    combined_ranking = {}\n",
    "    for i, (question, answer, distance) in enumerate(pairs_levenshtein):\n",
    "        combined_ranking[(question, answer)] = (i + 1) * weight_levenshtein\n",
    "\n",
    "    for i, (_, _, _, rank) in enumerate(pairs_xgboost):\n",
    "        question, answer, _, _ = pairs_xgboost[i]\n",
    "        if (question, answer) in combined_ranking:\n",
    "            combined_ranking[(question, answer)] += rank * weight_xgboost\n",
    "\n",
    "    # Sort by combined ranking\n",
    "    sorted_pairs = sorted(combined_ranking.items(), key=lambda x: x[1])\n",
    "\n",
    "    return sorted_pairs\n",
    "\n",
    "# User input\n",
    "user_input = input(\"Enter a question: \")\n",
    "\n",
    "# Task 2: Retrieve the closest pair using Levenshtein distance\n",
    "best_question, best_answer = retrieve_pair(user_input, dataset['train'])\n",
    "\n",
    "# Display the result from Task 2\n",
    "if best_question:\n",
    "    print(\"\\nTask 2 - Closest question (Levenshtein):\", best_question)\n",
    "    print(\"Answer:\", best_answer)\n",
    "else:\n",
    "    print(\"No matching question found.\")\n",
    "\n",
    "# Task 3: Retrieve the closest pair using Levenshtein distance with Python threads\n",
    "best_question_thread, best_answer_thread, _ = retrieve_pairs_in_parallel(user_input, dataset['train'])\n",
    "\n",
    "# Display the result from Task 3\n",
    "if best_question_thread:\n",
    "    print(\"\\nTask 3 - Closest question (Levenshtein with threads):\", best_question_thread)\n",
    "    print(\"Answer:\", best_answer_thread)\n",
    "else:\n",
    "    print(\"No matching question found.\")\n",
    "\n",
    "# Task 4: Rank responses using XGBoost\n",
    "print(\"\\nTask 4 - Ranking responses using XGBoost:\")\n",
    "ranked_responses_xgboost = rank_responses_with_xgboost(user_input, dataset['train'])\n",
    "for i, (question, answer, distance, rank) in enumerate(ranked_responses_xgboost[:5], start=1):\n",
    "    print(f\"Rank {i}:\")\n",
    "    print(f\"Question: {question}\")\n",
    "    print(f\"Answer: {answer}\")\n",
    "    print(f\"Levenshtein Distance: {distance}\")\n",
    "    print(f\"Ranking: {rank}\\n\")\n",
    "\n",
    "# Task 5: Rank responses using a combination of Levenshtein and XGBoost\n",
    "print(\"\\nTask 5 - Ranking responses using a combination of Levenshtein and XGBoost:\")\n",
    "ranked_responses_combined = rank_responses_with_combination(user_input, dataset['train'])\n",
    "for i, ((question, answer), ranking) in enumerate(ranked_responses_combined[:5], start=1):\n",
    "    print(f\"Rank {i}:\")\n",
    "    print(f\"Question: {question}\")\n",
    "    print(f\"Answer: {answer}\")\n",
    "    print(f\"Combined Ranking: {ranking}\\n\")\n"
   ]
  },
  {
   "cell_type": "code",
   "execution_count": null,
   "id": "8b90e1be",
   "metadata": {},
   "outputs": [],
   "source": []
  }
 ],
 "metadata": {
  "kernelspec": {
   "display_name": "Python 3 (ipykernel)",
   "language": "python",
   "name": "python3"
  },
  "language_info": {
   "codemirror_mode": {
    "name": "ipython",
    "version": 3
   },
   "file_extension": ".py",
   "mimetype": "text/x-python",
   "name": "python",
   "nbconvert_exporter": "python",
   "pygments_lexer": "ipython3",
   "version": "3.9.12"
  }
 },
 "nbformat": 4,
 "nbformat_minor": 5
}
